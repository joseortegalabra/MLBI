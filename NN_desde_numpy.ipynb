{
  "nbformat": 4,
  "nbformat_minor": 0,
  "metadata": {
    "colab": {
      "name": "NN desde numpy.ipynb",
      "provenance": [],
      "collapsed_sections": [],
      "authorship_tag": "ABX9TyMTDsltT+j28Mos17skO8Lj",
      "include_colab_link": true
    },
    "kernelspec": {
      "name": "python3",
      "display_name": "Python 3"
    }
  },
  "cells": [
    {
      "cell_type": "markdown",
      "metadata": {
        "id": "view-in-github",
        "colab_type": "text"
      },
      "source": [
        "<a href=\"https://colab.research.google.com/github/joseortegalabra/MLBI/blob/master/NN_desde_numpy.ipynb\" target=\"_parent\"><img src=\"https://colab.research.google.com/assets/colab-badge.svg\" alt=\"Open In Colab\"/></a>"
      ]
    },
    {
      "cell_type": "code",
      "metadata": {
        "id": "fULK7o4I6Nt-",
        "colab_type": "code",
        "colab": {}
      },
      "source": [
        "import numpy as np\n",
        "from sklearn.metrics import mean_squared_error\n",
        "import matplotlib.pyplot as plt\n"
      ],
      "execution_count": 0,
      "outputs": []
    },
    {
      "cell_type": "code",
      "metadata": {
        "id": "r2h1ZzMC8TzD",
        "colab_type": "code",
        "colab": {}
      },
      "source": [
        "'''\n",
        "def sigmoid(x):\n",
        "    \"Numerically stable sigmoid function.\"\n",
        "    if x >= 0:\n",
        "        z = exp(-x)\n",
        "        return 1 / (1 + z)\n",
        "    else:\n",
        "        # if x is less than zero then z will be small, denom can't be\n",
        "        # zero because it's 1+z.\n",
        "        z = exp(x)\n",
        "        return z / (1 + z)\n",
        "'''\n",
        "#funcion sigmoide\n",
        "from scipy.special import expit\n",
        "\n",
        "#funcion dervida sigmoide\n",
        "def d_sigmoid(x):\n",
        "  derivate = expit(x) * (1 - expit(x))\n",
        "  return derivate"
      ],
      "execution_count": 0,
      "outputs": []
    },
    {
      "cell_type": "code",
      "metadata": {
        "id": "OedIbHlZOEdQ",
        "colab_type": "code",
        "colab": {}
      },
      "source": [
        "def derv_loss(y_pred, y_real):    #funcion de la derivada de la loss elegida, en mi caso mse del profe predicho - real \n",
        "#CAMBIO EL ORDEN PARA QUE QUEDE EN MATRIZ(N°DATOS, N°NEURRONAS DE ULTIMA CAPA)\n",
        "  return y_pred.T - y_real.T"
      ],
      "execution_count": 0,
      "outputs": []
    },
    {
      "cell_type": "code",
      "metadata": {
        "id": "1uazMMlAhPka",
        "colab_type": "code",
        "colab": {}
      },
      "source": [
        "def calculate_grad_Z(grad_y, d_f_act, z):\n",
        "  #mutiplicacion punto por punto del gradiente por el jacobiano\n",
        "\n",
        "  #para evaluar el jacobiano en cada punto de Z, z tiene que estar en el formato traspuesto ocupado en back (100X1) 100 datos x 1 neurona\n",
        "  z = z.T\n",
        "  jacobian = d_f_act(z)\n",
        "  return grad_y * jacobian"
      ],
      "execution_count": 0,
      "outputs": []
    },
    {
      "cell_type": "code",
      "metadata": {
        "id": "C9o0pu-vYNa0",
        "colab_type": "code",
        "colab": {}
      },
      "source": [
        "class model_nn():\n",
        "  def __init__(self):\n",
        "    #inicializar lista donde se guardaran los z, y, w, funciones de costos que utiliza el algoritmo para optimizar\n",
        "    self.Z = [None]\n",
        "    self.Y = [] #el y sub cero tiene un valor\n",
        "    self.W = [] #dejo vacia la lista porque al crear los primeros W ahi voy a agregar el None en la primera capa\n",
        "    self.b = []\n",
        "    self.f_act = [None]\n",
        "    self.d_f_act = [None]\n",
        "\n",
        "\n",
        "\n",
        "    #donde guardar los valores obtenidos en cada paso de gradiente\n",
        "    self.Z_hist = []\n",
        "    self.Y_hist = []\n",
        "    self.W_hist = []\n",
        "    self.b_hist = []\n",
        "  \n",
        "  def reset_params(self): #reiniciar para hacer otra corrida de forward con valores W guardados y las funciones de activacion\n",
        "    self.Z = [None]\n",
        "    self.Y = [] \n",
        "\n",
        "  def add_layer(self,  n_neuron_actual, n_features = None, activation_function = None, derivate_act_function = None):\n",
        "    if self.W:\n",
        "      #no esta vacia la red neuronal\n",
        "      self.W.append(np.random.normal(size = (n_neuron_actual, self.n_neuron_last_layer)))\n",
        "      self.b.append(np.random.normal(size = (n_neuron_actual, 1)))   #llega a la cantidad actual de neuronas a partir de 1\n",
        "      #AGREGAR FUNCION DE ACTIVACIÓN\n",
        "      self.f_act.append(activation_function)\n",
        "      self.d_f_act.append(derivate_act_function) \n",
        "      self.n_neuron_last_layer = n_neuron_actual\n",
        "      \n",
        "\n",
        "#cuando creo la nueva capa tengo que agregar el bias de la capa anterior \n",
        "    else:\n",
        "      #esta vacia la red \n",
        "      self.W.append(None)\n",
        "      self.b.append(None)\n",
        "      self.W.append(np.random.normal(size = (n_neuron_actual, n_features)))\n",
        "      self.b.append(np.random.normal(size = (n_neuron_actual, 1)))   #llega a la cantidad actual de neuronas a partir de 1\n",
        "      #AGREGAR FUNCION DE ACTIVACIÓN\n",
        "      self.f_act.append(activation_function) \n",
        "      self.d_f_act.append(derivate_act_function) \n",
        "      self.n_neuron_last_layer = n_neuron_actual\n",
        "\n",
        "\n",
        "#podria crear solo la matriz de pesoss y las matrices Zk y Yk se crean solo cuando entreno para poder hacer variables la cantidad de datos de entrada\n",
        "  \n",
        "  #hacer el forward un forward pass inicial con todos los datos y las calibraciones inciiales para ver los valores en cada capa\n",
        "  def forward_pass(self, data):\n",
        "    self.Y.append(data)  #asigno y[k = 0] primera capa\n",
        "    \n",
        "    \n",
        "    for k in range(1, len(self.W)):   \n",
        "      #expandir dimensiones de y \n",
        "      Y_exp = np.vstack((np.ones(data.shape[1]), self.Y[k-1])) #en cada iteracion agrego el 1 \n",
        "      W_exp = np.hstack(( self.b[k] , self.W[k] ))  #juntar weights y bias auxiliar para calculos\n",
        "      \n",
        "      self.Z.append(W_exp @ Y_exp)\n",
        "      self.Y.append( self.f_act[k](self.Z[k]) )\n",
        "\n",
        "  def backward_pass(self, y_real):\n",
        "    self.N = len(self.Y) - 1  #cantidad de capas creadas (capa 0, capa 1, capa2, capa3)\n",
        "    #crear gradientes en cada back y actualizarlos en la iteración\n",
        "    self.grad_Y = [0 for i in range(len(self.Y))] #lista con 4 ubicaciones para hacer mis capas\n",
        "    self.grad_Z = [0 for i in range(len(self.Y))] \n",
        "    self.grad_W = [0 for i in range(len(self.Y))] \n",
        "    self.grad_b = [0 for i in range(len(self.Y))] \n",
        "\n",
        "    while (self.N > 0):\n",
        "      #print(self.N)\n",
        "      self.deltaW = [0 for i in range (len(self.Y))]   #crear el delta para actualizar NOSE SI ES NECESARIO\n",
        "      self.deltab = [0 for i in range (len(self.Y))] \n",
        " \n",
        "      \n",
        "      if (self.N  == len(self.Y) - 1):   #solo para la ultima capa\n",
        "        self.grad_Y[self.N] =  derv_loss(self.Y[self.N], y_real)   #derivada de la Loss\n",
        "\n",
        "\n",
        "      else:  #caso contrario que no estoy en la ultima capa\n",
        "      #LOS VALORES LOS AGREGO EN EL ORDEN INVERSO, TENGO QUE AGREGAR UNA ESPACIO NULO Y SUFFLE DE LO QUE OBTENGO, ahi queda ordenado de 0,1,2,3\n",
        "        self.grad_Y[self.N] = self.grad_Z[self.N + 1] @ self.W[self.N + 1]\n",
        "\n",
        "      #calcular gradiente de z y de w da lo mismo en la capa en la que estoy\n",
        "      self.grad_Z[self.N] =  calculate_grad_Z(self.grad_Y[self.N], self.d_f_act[self.N],self.Z[self.N])\n",
        "      self.grad_W[self.N] = self.Y[self.N - 1] @ self.grad_Z[self.N]\n",
        "      self.grad_b[self.N] = np.ones((1, self.Y[0].shape[1])) @ self.grad_Z[self.N] #ones de los datos self.Y[0].shape[1] cantidad de datos en todos los y son =\n",
        "      self.N -=1\n",
        "\n",
        "  def update_weights(self, lr):\n",
        "    for k in range(1, len(self.W)):\n",
        "      self.W[k] = self.W[k] - ( lr /  self.Y[0].shape[1] ) * self.grad_W[k].T\n",
        "      self.b[k] = self.b[k] - ( lr /  self.Y[0].shape[1] ) * self.grad_b[k].T"
      ],
      "execution_count": 0,
      "outputs": []
    },
    {
      "cell_type": "code",
      "metadata": {
        "id": "AOfoHUfaIEl7",
        "colab_type": "code",
        "colab": {}
      },
      "source": [
        ""
      ],
      "execution_count": 0,
      "outputs": []
    },
    {
      "cell_type": "code",
      "metadata": {
        "id": "sWlZK6d7Jv4_",
        "colab_type": "code",
        "colab": {}
      },
      "source": [
        ""
      ],
      "execution_count": 0,
      "outputs": []
    },
    {
      "cell_type": "code",
      "metadata": {
        "id": "VtL-KA2rKrpG",
        "colab_type": "code",
        "colab": {}
      },
      "source": [
        ""
      ],
      "execution_count": 0,
      "outputs": []
    },
    {
      "cell_type": "code",
      "metadata": {
        "id": "R9Cmp97QKruq",
        "colab_type": "code",
        "colab": {}
      },
      "source": [
        ""
      ],
      "execution_count": 0,
      "outputs": []
    },
    {
      "cell_type": "markdown",
      "metadata": {
        "id": "tzNdpkpRKr1q",
        "colab_type": "text"
      },
      "source": [
        "# MODELO ENTRENAR"
      ]
    },
    {
      "cell_type": "code",
      "metadata": {
        "id": "pbwURYMIKt0L",
        "colab_type": "code",
        "colab": {
          "base_uri": "https://localhost:8080/",
          "height": 136
        },
        "outputId": "3c69999f-998d-46ab-d777-4bfdea6ae880"
      },
      "source": [
        "X = np.array([\n",
        "              [25, 50, 1, 10],\n",
        "              [25, 20, 0, 10],\n",
        "              [20, 50, 1, 10 ],\n",
        "              [10, 60, 0, 20 ],\n",
        "              [10, 30, 0, 5 ],\n",
        "              [10, 20, 1, 5 ]\n",
        "])\n",
        "\n",
        "y = np.array([[3, 2, 3, 3, 2, 1]])\n",
        "print('Data x', X)\n",
        "print('Data y', y)"
      ],
      "execution_count": 6,
      "outputs": [
        {
          "output_type": "stream",
          "text": [
            "Data x [[25 50  1 10]\n",
            " [25 20  0 10]\n",
            " [20 50  1 10]\n",
            " [10 60  0 20]\n",
            " [10 30  0  5]\n",
            " [10 20  1  5]]\n",
            "Data y [[3 2 3 3 2 1]]\n"
          ],
          "name": "stdout"
        }
      ]
    },
    {
      "cell_type": "markdown",
      "metadata": {
        "id": "sh_OUsRQK2YM",
        "colab_type": "text"
      },
      "source": [
        "#### conjunto train y test"
      ]
    },
    {
      "cell_type": "code",
      "metadata": {
        "id": "_GCAaOv_KxjL",
        "colab_type": "code",
        "colab": {
          "base_uri": "https://localhost:8080/",
          "height": 102
        },
        "outputId": "1dffbb23-2df5-46d0-f642-cdcfc3f7a763"
      },
      "source": [
        "X_train = X.T\n",
        "y_train = y\n",
        "print(X_train) #datos ordenados de forma correcta en el eje y los valores de las features\n",
        "print('y_train en horizontal los datos', y_train)"
      ],
      "execution_count": 7,
      "outputs": [
        {
          "output_type": "stream",
          "text": [
            "[[25 25 20 10 10 10]\n",
            " [50 20 50 60 30 20]\n",
            " [ 1  0  1  0  0  1]\n",
            " [10 10 10 20  5  5]]\n",
            "y_train en horizontal los datos [[3 2 3 3 2 1]]\n"
          ],
          "name": "stdout"
        }
      ]
    },
    {
      "cell_type": "code",
      "metadata": {
        "id": "o4Q8epvaK0Jy",
        "colab_type": "code",
        "colab": {}
      },
      "source": [
        "#hacer batch de 3 DATOS"
      ],
      "execution_count": 0,
      "outputs": []
    },
    {
      "cell_type": "markdown",
      "metadata": {
        "id": "g1O-r8hPLpVd",
        "colab_type": "text"
      },
      "source": [
        "#### hacer red y entrenar"
      ]
    },
    {
      "cell_type": "code",
      "metadata": {
        "id": "SiEB1a9MLrdo",
        "colab_type": "code",
        "colab": {
          "base_uri": "https://localhost:8080/",
          "height": 153
        },
        "outputId": "ccca8e69-0060-4a6f-d711-2044cc66cf38"
      },
      "source": [
        "model = model_nn()\n",
        "model.add_layer(5, 4, activation_function = expit, derivate_act_function = d_sigmoid) #4 features\n",
        "model.add_layer(3, activation_function = expit, derivate_act_function = d_sigmoid)\n",
        "model.add_layer(1, activation_function = expit, derivate_act_function = d_sigmoid)\n",
        "\n",
        "print('tamaño neuronas')\n",
        "print(model.W[0])\n",
        "print(model.W[1].shape)\n",
        "print(model.W[2].shape)\n",
        "print(model.W[3].shape)\n",
        "\n",
        "print('\\n Activation function', model.f_act)\n",
        "print('Derivate activation function', model.d_f_act)"
      ],
      "execution_count": 9,
      "outputs": [
        {
          "output_type": "stream",
          "text": [
            "tamaño neuronas\n",
            "None\n",
            "(5, 4)\n",
            "(3, 5)\n",
            "(1, 3)\n",
            "\n",
            " Activation function [None, <ufunc 'expit'>, <ufunc 'expit'>, <ufunc 'expit'>]\n",
            "Derivate activation function [None, <function d_sigmoid at 0x7f445b218268>, <function d_sigmoid at 0x7f445b218268>, <function d_sigmoid at 0x7f445b218268>]\n"
          ],
          "name": "stdout"
        }
      ]
    },
    {
      "cell_type": "code",
      "metadata": {
        "id": "UIxrWNo9L2RX",
        "colab_type": "code",
        "colab": {}
      },
      "source": [
        "epoch = 10000\n",
        "lr = 0.001\n",
        "size_batch = 6  #3 DATOS EN CADA BATCH\n",
        "num_batches = int(X_train.shape[1] / size_batch)      #dejo un integer definiendo un batch que calce exacto con la base de datos"
      ],
      "execution_count": 0,
      "outputs": []
    },
    {
      "cell_type": "code",
      "metadata": {
        "id": "trOGUoh_Lr3l",
        "colab_type": "code",
        "colab": {}
      },
      "source": [
        "loss = []\n",
        "for i in range(epoch):\n",
        "  #PERMUTAR DATA SET\n",
        "  #np.random.permutation(X_train.T).T   #UN EJEMPLO pero tendria que estar el y junto :/\n",
        "  for j in range(num_batches):\n",
        "    #ir pasando los batches\n",
        "    \n",
        "    ###FORWARD PASS\n",
        "    model.forward_pass(X_train)  #le paso el conjunto ql de datos que quiero\n",
        "    \n",
        "    #CALCULAR LA LOSS DE LA REGRESION EN ESE FORWARD  (y_true, y_predicho)\n",
        "    loss.append(  mean_squared_error(y_train ,model.Y[-1])  )  #el ultimo valor de y es la predicción\n",
        "    #tengo que sacar el promedio\n",
        "\n",
        "    ###BACK PASS\n",
        "    model.backward_pass(y_train)\n",
        "    model.update_weights(lr)   #actualizo los pesos\n",
        "\n",
        "    #TERMINO UN PASO DE GRADIENTE\n",
        "    model.reset_params()      #reinicio los y, z para calcular los nuevos y, z en el siguiente paso de gradiente\n",
        "\n",
        "\n"
      ],
      "execution_count": 0,
      "outputs": []
    },
    {
      "cell_type": "code",
      "metadata": {
        "id": "rGxYi3A8TENk",
        "colab_type": "code",
        "colab": {}
      },
      "source": [
        "#loss"
      ],
      "execution_count": 0,
      "outputs": []
    },
    {
      "cell_type": "code",
      "metadata": {
        "id": "H0Th8idjTF3n",
        "colab_type": "code",
        "colab": {
          "base_uri": "https://localhost:8080/",
          "height": 282
        },
        "outputId": "5ef436dd-a4f0-4c57-9521-02459fe944f0"
      },
      "source": [
        "plt.plot(loss)"
      ],
      "execution_count": 22,
      "outputs": [
        {
          "output_type": "execute_result",
          "data": {
            "text/plain": [
              "[<matplotlib.lines.Line2D at 0x7f445a8310b8>]"
            ]
          },
          "metadata": {
            "tags": []
          },
          "execution_count": 22
        },
        {
          "output_type": "display_data",
          "data": {
            "image/png": "[encoded data removed]",
            "text/plain": [
              "<Figure size 432x288 with 1 Axes>"
            ]
          },
          "metadata": {
            "tags": [],
            "needs_background": "light"
          }
        }
      ]
    },
    {
      "cell_type": "code",
      "metadata": {
        "id": "Vo1W0hV7TL6m",
        "colab_type": "code",
        "colab": {}
      },
      "source": [
        ""
      ],
      "execution_count": 0,
      "outputs": []
    }
  ]
}