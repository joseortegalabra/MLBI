{
  "nbformat": 4,
  "nbformat_minor": 0,
  "metadata": {
    "colab": {
      "name": "Tarea1 MLBI - José Ignacio Ortega Labra.ipynb",
      "provenance": [],
      "collapsed_sections": [],
      "authorship_tag": "ABX9TyM9BkA8y9Y0MEH+JjLFo89i",
      "include_colab_link": true
    },
    "kernelspec": {
      "name": "python3",
      "display_name": "Python 3"
    }
  },
  "cells": [
    {
      "cell_type": "markdown",
      "metadata": {
        "id": "view-in-github",
        "colab_type": "text"
      },
      "source": [
        "<a href=\"https://colab.research.google.com/github/joseortegalabra/MLBI/blob/master/Tarea1_MLBI_Jos%C3%A9_Ignacio_Ortega_Labra.ipynb\" target=\"_parent\"><img src=\"https://colab.research.google.com/assets/colab-badge.svg\" alt=\"Open In Colab\"/></a>"
      ]
    },
    {
      "cell_type": "code",
      "metadata": {
        "id": "XTQF8F_88vhF",
        "colab_type": "code",
        "colab": {}
      },
      "source": [
        "#!pip list\n",
        "#!pip freeze\n",
        "#!pip show pandas numpy tensorflow matplotlib sklearn"
      ],
      "execution_count": 0,
      "outputs": []
    },
    {
      "cell_type": "code",
      "metadata": {
        "id": "oWhxXrJJ4HT3",
        "colab_type": "code",
        "colab": {}
      },
      "source": [
        "import numpy as np\n",
        "import pandas as pd\n",
        "import matplotlib.pyplot as plt\n",
        "import tensorflow as tf\n",
        "import tensorflow.keras as kr\n",
        "from sklearn.model_selection import train_test_split\n",
        "from platform import python_version\n",
        "from sklearn.preprocessing import MinMaxScaler"
      ],
      "execution_count": 0,
      "outputs": []
    },
    {
      "cell_type": "code",
      "metadata": {
        "id": "K75ANfCA5AJ6",
        "colab_type": "code",
        "outputId": "2b6e370d-cc4d-4859-e102-871f33e43e6e",
        "colab": {
          "base_uri": "https://localhost:8080/",
          "height": 85
        }
      },
      "source": [
        "print('Version de python: ',python_version())\n",
        "print('Version numpy:', np.__version__)\n",
        "print('Version pandas:', pd.__version__)\n",
        "print('Version tensorflow:', tf.__version__)\n",
        "#print('Version sklearn:', sklearn.__version__)"
      ],
      "execution_count": 3,
      "outputs": [
        {
          "output_type": "stream",
          "text": [
            "Version de python:  3.6.9\n",
            "Version numpy: 1.18.3\n",
            "Version pandas: 1.0.3\n",
            "Version tensorflow: 2.2.0-rc3\n"
          ],
          "name": "stdout"
        }
      ]
    },
    {
      "cell_type": "code",
      "metadata": {
        "id": "XwPGLvVA-Kfs",
        "colab_type": "code",
        "colab": {}
      },
      "source": [
        "#!git clone https://github.com/joseortegalabra/MLBI.git"
      ],
      "execution_count": 0,
      "outputs": []
    },
    {
      "cell_type": "markdown",
      "metadata": {
        "id": "Z7hnKpAQ-zlp",
        "colab_type": "text"
      },
      "source": [
        "## Pregunta 1"
      ]
    },
    {
      "cell_type": "markdown",
      "metadata": {
        "id": "TsHi6tnYH-te",
        "colab_type": "text"
      },
      "source": [
        "#### Exploración base de datos"
      ]
    },
    {
      "cell_type": "code",
      "metadata": {
        "id": "NinN71IV-x58",
        "colab_type": "code",
        "outputId": "102ffed5-3f69-4b6b-fcd9-f783fbe2c47b",
        "colab": {
          "base_uri": "https://localhost:8080/",
          "height": 394
        }
      },
      "source": [
        "path1 = 'https://raw.githubusercontent.com/joseortegalabra/MLBI/master/Tarea1/dataset1.xlsx'\n",
        "data1 = pd.read_excel(path1)\n",
        "data1.head()"
      ],
      "execution_count": 53,
      "outputs": [
        {
          "output_type": "execute_result",
          "data": {
            "text/html": [
              "<div>\n",
              "<style scoped>\n",
              "    .dataframe tbody tr th:only-of-type {\n",
              "        vertical-align: middle;\n",
              "    }\n",
              "\n",
              "    .dataframe tbody tr th {\n",
              "        vertical-align: top;\n",
              "    }\n",
              "\n",
              "    .dataframe thead th {\n",
              "        text-align: right;\n",
              "    }\n",
              "</style>\n",
              "<table border=\"1\" class=\"dataframe\">\n",
              "  <thead>\n",
              "    <tr style=\"text-align: right;\">\n",
              "      <th></th>\n",
              "      <th>crr_Nom</th>\n",
              "      <th>psu_Nem</th>\n",
              "      <th>psu_Leng</th>\n",
              "      <th>psu_Mate</th>\n",
              "      <th>psu_Cie</th>\n",
              "      <th>psu_Pond</th>\n",
              "      <th>Longitud</th>\n",
              "      <th>Latitud</th>\n",
              "      <th>cred_apr</th>\n",
              "      <th>distancia</th>\n",
              "      <th>F</th>\n",
              "      <th>M</th>\n",
              "      <th>PARTICULAR_SUBVENCIONADO</th>\n",
              "      <th>PARTICULAR_PAGADO</th>\n",
              "      <th>MUNICIPAL</th>\n",
              "      <th>cluster</th>\n",
              "    </tr>\n",
              "  </thead>\n",
              "  <tbody>\n",
              "    <tr>\n",
              "      <th>0</th>\n",
              "      <td>INGENIERIA CIVIL INDUSTRIAL</td>\n",
              "      <td>783</td>\n",
              "      <td>653</td>\n",
              "      <td>685</td>\n",
              "      <td>672</td>\n",
              "      <td>735</td>\n",
              "      <td>-73.16487</td>\n",
              "      <td>-36.978759</td>\n",
              "      <td>38</td>\n",
              "      <td>20.201244</td>\n",
              "      <td>1</td>\n",
              "      <td>0</td>\n",
              "      <td>1</td>\n",
              "      <td>0</td>\n",
              "      <td>0</td>\n",
              "      <td>C2</td>\n",
              "    </tr>\n",
              "    <tr>\n",
              "      <th>1</th>\n",
              "      <td>INGENIERIA CIVIL BIOMEDICA</td>\n",
              "      <td>799</td>\n",
              "      <td>705</td>\n",
              "      <td>713</td>\n",
              "      <td>686</td>\n",
              "      <td>756</td>\n",
              "      <td>-73.16487</td>\n",
              "      <td>-36.978759</td>\n",
              "      <td>36</td>\n",
              "      <td>20.201244</td>\n",
              "      <td>1</td>\n",
              "      <td>0</td>\n",
              "      <td>1</td>\n",
              "      <td>0</td>\n",
              "      <td>0</td>\n",
              "      <td>C1</td>\n",
              "    </tr>\n",
              "    <tr>\n",
              "      <th>2</th>\n",
              "      <td>INGENIERIA CIVIL QUIMICA</td>\n",
              "      <td>688</td>\n",
              "      <td>543</td>\n",
              "      <td>612</td>\n",
              "      <td>534</td>\n",
              "      <td>638</td>\n",
              "      <td>-73.16487</td>\n",
              "      <td>-36.978759</td>\n",
              "      <td>36</td>\n",
              "      <td>20.201244</td>\n",
              "      <td>1</td>\n",
              "      <td>0</td>\n",
              "      <td>1</td>\n",
              "      <td>0</td>\n",
              "      <td>0</td>\n",
              "      <td>C3</td>\n",
              "    </tr>\n",
              "    <tr>\n",
              "      <th>3</th>\n",
              "      <td>INGENIERIA CIVIL ELECTRICA</td>\n",
              "      <td>605</td>\n",
              "      <td>598</td>\n",
              "      <td>658</td>\n",
              "      <td>601</td>\n",
              "      <td>633</td>\n",
              "      <td>-73.16487</td>\n",
              "      <td>-36.978759</td>\n",
              "      <td>21</td>\n",
              "      <td>20.201244</td>\n",
              "      <td>0</td>\n",
              "      <td>1</td>\n",
              "      <td>1</td>\n",
              "      <td>0</td>\n",
              "      <td>0</td>\n",
              "      <td>C2</td>\n",
              "    </tr>\n",
              "    <tr>\n",
              "      <th>4</th>\n",
              "      <td>INGENIERIA CIVIL INFORMATICA</td>\n",
              "      <td>603</td>\n",
              "      <td>710</td>\n",
              "      <td>668</td>\n",
              "      <td>651</td>\n",
              "      <td>657</td>\n",
              "      <td>-73.16487</td>\n",
              "      <td>-36.978759</td>\n",
              "      <td>19</td>\n",
              "      <td>20.201244</td>\n",
              "      <td>0</td>\n",
              "      <td>1</td>\n",
              "      <td>1</td>\n",
              "      <td>0</td>\n",
              "      <td>0</td>\n",
              "      <td>C2</td>\n",
              "    </tr>\n",
              "  </tbody>\n",
              "</table>\n",
              "</div>"
            ],
            "text/plain": [
              "                        crr_Nom  psu_Nem  ...  MUNICIPAL  cluster\n",
              "0   INGENIERIA CIVIL INDUSTRIAL      783  ...          0       C2\n",
              "1    INGENIERIA CIVIL BIOMEDICA      799  ...          0       C1\n",
              "2      INGENIERIA CIVIL QUIMICA      688  ...          0       C3\n",
              "3    INGENIERIA CIVIL ELECTRICA      605  ...          0       C2\n",
              "4  INGENIERIA CIVIL INFORMATICA      603  ...          0       C2\n",
              "\n",
              "[5 rows x 16 columns]"
            ]
          },
          "metadata": {
            "tags": []
          },
          "execution_count": 53
        }
      ]
    },
    {
      "cell_type": "code",
      "metadata": {
        "id": "AI6ZdruIGz8J",
        "colab_type": "code",
        "outputId": "ca359dd6-0439-470e-dd9d-ad4f0b3b5953",
        "colab": {
          "base_uri": "https://localhost:8080/",
          "height": 408
        }
      },
      "source": [
        "data1.info()"
      ],
      "execution_count": 54,
      "outputs": [
        {
          "output_type": "stream",
          "text": [
            "<class 'pandas.core.frame.DataFrame'>\n",
            "RangeIndex: 7866 entries, 0 to 7865\n",
            "Data columns (total 16 columns):\n",
            " #   Column                    Non-Null Count  Dtype  \n",
            "---  ------                    --------------  -----  \n",
            " 0   crr_Nom                   7866 non-null   object \n",
            " 1   psu_Nem                   7866 non-null   int64  \n",
            " 2   psu_Leng                  7866 non-null   int64  \n",
            " 3   psu_Mate                  7866 non-null   int64  \n",
            " 4   psu_Cie                   7866 non-null   int64  \n",
            " 5   psu_Pond                  7866 non-null   int64  \n",
            " 6   Longitud                  7866 non-null   float64\n",
            " 7   Latitud                   7866 non-null   float64\n",
            " 8   cred_apr                  7866 non-null   int64  \n",
            " 9   distancia                 7866 non-null   float64\n",
            " 10  F                         7866 non-null   int64  \n",
            " 11  M                         7866 non-null   int64  \n",
            " 12  PARTICULAR_SUBVENCIONADO  7866 non-null   int64  \n",
            " 13  PARTICULAR_PAGADO         7866 non-null   int64  \n",
            " 14  MUNICIPAL                 7866 non-null   int64  \n",
            " 15  cluster                   7866 non-null   object \n",
            "dtypes: float64(3), int64(11), object(2)\n",
            "memory usage: 983.4+ KB\n"
          ],
          "name": "stdout"
        }
      ]
    },
    {
      "cell_type": "markdown",
      "metadata": {
        "id": "lZYq52rkGzyj",
        "colab_type": "text"
      },
      "source": [
        "La base de datos tiene 15 características, no tiene ningún valor nulo y todos los datos son del tipo numérico a excepción de crr_Nom (Nombre de la carerra estudiada) y cluster (señal a aprender, clasificación del cluster de cada estudiante)\n"
      ]
    },
    {
      "cell_type": "markdown",
      "metadata": {
        "id": "exCK1cECMJ69",
        "colab_type": "text"
      },
      "source": [
        "En primer lugar dividir la base de datos en entrenamiento y testeo para evitar errores data Leakage"
      ]
    },
    {
      "cell_type": "code",
      "metadata": {
        "id": "81ypa29WGzq_",
        "colab_type": "code",
        "outputId": "a0c4f721-9e29-4c30-c694-4fb3dc32cbf8",
        "colab": {
          "base_uri": "https://localhost:8080/",
          "height": 102
        }
      },
      "source": [
        "data1['cluster'].value_counts()"
      ],
      "execution_count": 55,
      "outputs": [
        {
          "output_type": "execute_result",
          "data": {
            "text/plain": [
              "C2    3631\n",
              "C3    1773\n",
              "C1    1332\n",
              "C4    1130\n",
              "Name: cluster, dtype: int64"
            ]
          },
          "metadata": {
            "tags": []
          },
          "execution_count": 55
        }
      ]
    },
    {
      "cell_type": "code",
      "metadata": {
        "id": "8kQKLhJPGzhr",
        "colab_type": "code",
        "outputId": "f1235ad8-64bc-4b7a-f031-73ffb160943e",
        "colab": {
          "base_uri": "https://localhost:8080/",
          "height": 272
        }
      },
      "source": [
        "data1['crr_Nom'].value_counts()"
      ],
      "execution_count": 56,
      "outputs": [
        {
          "output_type": "execute_result",
          "data": {
            "text/plain": [
              "INGENIERIA CIVIL - PLAN COMUN             1010\n",
              "INGENIERIA CIVIL INDUSTRIAL                795\n",
              "INGENIERIA CIVIL BIOMEDICA                 651\n",
              "INGENIERIA CIVIL METALURGICA               614\n",
              "INGENIERIA CIVIL                           604\n",
              "INGENIERIA CIVIL QUIMICA                   600\n",
              "INGENIERIA CIVIL INFORMATICA               563\n",
              "INGENIERIA CIVIL ELECTRONICA               548\n",
              "INGENIERIA CIVIL MECANICA                  543\n",
              "INGENIERIA CIVIL EN TELECOMUNICACIONES     536\n",
              "INGENIERIA CIVIL DE MATERIALES             483\n",
              "INGENIERIA CIVIL ELECTRICA                 480\n",
              "INGENIERÍA CIVIL DE MINAS                  263\n",
              "INGENIERIA CIVIL AEROESPACIAL              176\n",
              "Name: crr_Nom, dtype: int64"
            ]
          },
          "metadata": {
            "tags": []
          },
          "execution_count": 56
        }
      ]
    },
    {
      "cell_type": "markdown",
      "metadata": {
        "id": "-2S24wX-SAZE",
        "colab_type": "text"
      },
      "source": [
        "#### Ajustar base de datos a formato numérico"
      ]
    },
    {
      "cell_type": "code",
      "metadata": {
        "id": "N_F-DYIFSAMm",
        "colab_type": "code",
        "colab": {
          "base_uri": "https://localhost:8080/",
          "height": 258
        },
        "outputId": "1885632b-5e7c-4c3e-a105-0a5d8b3e6365"
      },
      "source": [
        "#crear datos dummy\n",
        "def createDummies(df, var, prefijo):\n",
        "  '''\n",
        "  input dataframe y un string con EL nombre de la variable a eliminar y nombre del prefijo que quiero que aparesca\n",
        "  en formato string\n",
        "  '''\n",
        "  dummy = pd.get_dummies(df[var], prefix = prefijo)\n",
        "  df = df.drop(var, axis = 1)\n",
        "  df = pd.concat([df, dummy], axis = 1)\n",
        "  return df\n",
        "\n",
        "data1 = createDummies(data1,'crr_Nom', 'crr')\n",
        "data1.head()"
      ],
      "execution_count": 57,
      "outputs": [
        {
          "output_type": "execute_result",
          "data": {
            "text/html": [
              "<div>\n",
              "<style scoped>\n",
              "    .dataframe tbody tr th:only-of-type {\n",
              "        vertical-align: middle;\n",
              "    }\n",
              "\n",
              "    .dataframe tbody tr th {\n",
              "        vertical-align: top;\n",
              "    }\n",
              "\n",
              "    .dataframe thead th {\n",
              "        text-align: right;\n",
              "    }\n",
              "</style>\n",
              "<table border=\"1\" class=\"dataframe\">\n",
              "  <thead>\n",
              "    <tr style=\"text-align: right;\">\n",
              "      <th></th>\n",
              "      <th>psu_Nem</th>\n",
              "      <th>psu_Leng</th>\n",
              "      <th>psu_Mate</th>\n",
              "      <th>psu_Cie</th>\n",
              "      <th>psu_Pond</th>\n",
              "      <th>Longitud</th>\n",
              "      <th>Latitud</th>\n",
              "      <th>cred_apr</th>\n",
              "      <th>distancia</th>\n",
              "      <th>F</th>\n",
              "      <th>M</th>\n",
              "      <th>PARTICULAR_SUBVENCIONADO</th>\n",
              "      <th>PARTICULAR_PAGADO</th>\n",
              "      <th>MUNICIPAL</th>\n",
              "      <th>cluster</th>\n",
              "      <th>crr_INGENIERIA CIVIL</th>\n",
              "      <th>crr_INGENIERIA CIVIL - PLAN COMUN</th>\n",
              "      <th>crr_INGENIERIA CIVIL AEROESPACIAL</th>\n",
              "      <th>crr_INGENIERIA CIVIL BIOMEDICA</th>\n",
              "      <th>crr_INGENIERIA CIVIL DE MATERIALES</th>\n",
              "      <th>crr_INGENIERIA CIVIL ELECTRICA</th>\n",
              "      <th>crr_INGENIERIA CIVIL ELECTRONICA</th>\n",
              "      <th>crr_INGENIERIA CIVIL EN TELECOMUNICACIONES</th>\n",
              "      <th>crr_INGENIERIA CIVIL INDUSTRIAL</th>\n",
              "      <th>crr_INGENIERIA CIVIL INFORMATICA</th>\n",
              "      <th>crr_INGENIERIA CIVIL MECANICA</th>\n",
              "      <th>crr_INGENIERIA CIVIL METALURGICA</th>\n",
              "      <th>crr_INGENIERIA CIVIL QUIMICA</th>\n",
              "      <th>crr_INGENIERÍA CIVIL DE MINAS</th>\n",
              "    </tr>\n",
              "  </thead>\n",
              "  <tbody>\n",
              "    <tr>\n",
              "      <th>0</th>\n",
              "      <td>783</td>\n",
              "      <td>653</td>\n",
              "      <td>685</td>\n",
              "      <td>672</td>\n",
              "      <td>735</td>\n",
              "      <td>-73.16487</td>\n",
              "      <td>-36.978759</td>\n",
              "      <td>38</td>\n",
              "      <td>20.201244</td>\n",
              "      <td>1</td>\n",
              "      <td>0</td>\n",
              "      <td>1</td>\n",
              "      <td>0</td>\n",
              "      <td>0</td>\n",
              "      <td>C2</td>\n",
              "      <td>0</td>\n",
              "      <td>0</td>\n",
              "      <td>0</td>\n",
              "      <td>0</td>\n",
              "      <td>0</td>\n",
              "      <td>0</td>\n",
              "      <td>0</td>\n",
              "      <td>0</td>\n",
              "      <td>1</td>\n",
              "      <td>0</td>\n",
              "      <td>0</td>\n",
              "      <td>0</td>\n",
              "      <td>0</td>\n",
              "      <td>0</td>\n",
              "    </tr>\n",
              "    <tr>\n",
              "      <th>1</th>\n",
              "      <td>799</td>\n",
              "      <td>705</td>\n",
              "      <td>713</td>\n",
              "      <td>686</td>\n",
              "      <td>756</td>\n",
              "      <td>-73.16487</td>\n",
              "      <td>-36.978759</td>\n",
              "      <td>36</td>\n",
              "      <td>20.201244</td>\n",
              "      <td>1</td>\n",
              "      <td>0</td>\n",
              "      <td>1</td>\n",
              "      <td>0</td>\n",
              "      <td>0</td>\n",
              "      <td>C1</td>\n",
              "      <td>0</td>\n",
              "      <td>0</td>\n",
              "      <td>0</td>\n",
              "      <td>1</td>\n",
              "      <td>0</td>\n",
              "      <td>0</td>\n",
              "      <td>0</td>\n",
              "      <td>0</td>\n",
              "      <td>0</td>\n",
              "      <td>0</td>\n",
              "      <td>0</td>\n",
              "      <td>0</td>\n",
              "      <td>0</td>\n",
              "      <td>0</td>\n",
              "    </tr>\n",
              "    <tr>\n",
              "      <th>2</th>\n",
              "      <td>688</td>\n",
              "      <td>543</td>\n",
              "      <td>612</td>\n",
              "      <td>534</td>\n",
              "      <td>638</td>\n",
              "      <td>-73.16487</td>\n",
              "      <td>-36.978759</td>\n",
              "      <td>36</td>\n",
              "      <td>20.201244</td>\n",
              "      <td>1</td>\n",
              "      <td>0</td>\n",
              "      <td>1</td>\n",
              "      <td>0</td>\n",
              "      <td>0</td>\n",
              "      <td>C3</td>\n",
              "      <td>0</td>\n",
              "      <td>0</td>\n",
              "      <td>0</td>\n",
              "      <td>0</td>\n",
              "      <td>0</td>\n",
              "      <td>0</td>\n",
              "      <td>0</td>\n",
              "      <td>0</td>\n",
              "      <td>0</td>\n",
              "      <td>0</td>\n",
              "      <td>0</td>\n",
              "      <td>0</td>\n",
              "      <td>1</td>\n",
              "      <td>0</td>\n",
              "    </tr>\n",
              "    <tr>\n",
              "      <th>3</th>\n",
              "      <td>605</td>\n",
              "      <td>598</td>\n",
              "      <td>658</td>\n",
              "      <td>601</td>\n",
              "      <td>633</td>\n",
              "      <td>-73.16487</td>\n",
              "      <td>-36.978759</td>\n",
              "      <td>21</td>\n",
              "      <td>20.201244</td>\n",
              "      <td>0</td>\n",
              "      <td>1</td>\n",
              "      <td>1</td>\n",
              "      <td>0</td>\n",
              "      <td>0</td>\n",
              "      <td>C2</td>\n",
              "      <td>0</td>\n",
              "      <td>0</td>\n",
              "      <td>0</td>\n",
              "      <td>0</td>\n",
              "      <td>0</td>\n",
              "      <td>1</td>\n",
              "      <td>0</td>\n",
              "      <td>0</td>\n",
              "      <td>0</td>\n",
              "      <td>0</td>\n",
              "      <td>0</td>\n",
              "      <td>0</td>\n",
              "      <td>0</td>\n",
              "      <td>0</td>\n",
              "    </tr>\n",
              "    <tr>\n",
              "      <th>4</th>\n",
              "      <td>603</td>\n",
              "      <td>710</td>\n",
              "      <td>668</td>\n",
              "      <td>651</td>\n",
              "      <td>657</td>\n",
              "      <td>-73.16487</td>\n",
              "      <td>-36.978759</td>\n",
              "      <td>19</td>\n",
              "      <td>20.201244</td>\n",
              "      <td>0</td>\n",
              "      <td>1</td>\n",
              "      <td>1</td>\n",
              "      <td>0</td>\n",
              "      <td>0</td>\n",
              "      <td>C2</td>\n",
              "      <td>0</td>\n",
              "      <td>0</td>\n",
              "      <td>0</td>\n",
              "      <td>0</td>\n",
              "      <td>0</td>\n",
              "      <td>0</td>\n",
              "      <td>0</td>\n",
              "      <td>0</td>\n",
              "      <td>0</td>\n",
              "      <td>1</td>\n",
              "      <td>0</td>\n",
              "      <td>0</td>\n",
              "      <td>0</td>\n",
              "      <td>0</td>\n",
              "    </tr>\n",
              "  </tbody>\n",
              "</table>\n",
              "</div>"
            ],
            "text/plain": [
              "   psu_Nem  ...  crr_INGENIERÍA CIVIL DE MINAS\n",
              "0      783  ...                              0\n",
              "1      799  ...                              0\n",
              "2      688  ...                              0\n",
              "3      605  ...                              0\n",
              "4      603  ...                              0\n",
              "\n",
              "[5 rows x 29 columns]"
            ]
          },
          "metadata": {
            "tags": []
          },
          "execution_count": 57
        }
      ]
    },
    {
      "cell_type": "code",
      "metadata": {
        "id": "2Ne9mn6-SAAp",
        "colab_type": "code",
        "colab": {
          "base_uri": "https://localhost:8080/",
          "height": 258
        },
        "outputId": "e1288743-7632-431d-a9fc-8c1f03b3da98"
      },
      "source": [
        "#cluster en forma numérica\n",
        "def n_cluster(row):\n",
        "  if row == 'C1':\n",
        "    return 1\n",
        "  elif row == 'C2':\n",
        "    return 2\n",
        "  elif row == 'C3':\n",
        "    return 3\n",
        "  else:\n",
        "    return 4\n",
        "\n",
        "#data1['cluster'].map(n_cluster)\n",
        "data1.loc[:, 'cluster'] = data1['cluster'].map(n_cluster)\n",
        "data1.head()"
      ],
      "execution_count": 58,
      "outputs": [
        {
          "output_type": "execute_result",
          "data": {
            "text/html": [
              "<div>\n",
              "<style scoped>\n",
              "    .dataframe tbody tr th:only-of-type {\n",
              "        vertical-align: middle;\n",
              "    }\n",
              "\n",
              "    .dataframe tbody tr th {\n",
              "        vertical-align: top;\n",
              "    }\n",
              "\n",
              "    .dataframe thead th {\n",
              "        text-align: right;\n",
              "    }\n",
              "</style>\n",
              "<table border=\"1\" class=\"dataframe\">\n",
              "  <thead>\n",
              "    <tr style=\"text-align: right;\">\n",
              "      <th></th>\n",
              "      <th>psu_Nem</th>\n",
              "      <th>psu_Leng</th>\n",
              "      <th>psu_Mate</th>\n",
              "      <th>psu_Cie</th>\n",
              "      <th>psu_Pond</th>\n",
              "      <th>Longitud</th>\n",
              "      <th>Latitud</th>\n",
              "      <th>cred_apr</th>\n",
              "      <th>distancia</th>\n",
              "      <th>F</th>\n",
              "      <th>M</th>\n",
              "      <th>PARTICULAR_SUBVENCIONADO</th>\n",
              "      <th>PARTICULAR_PAGADO</th>\n",
              "      <th>MUNICIPAL</th>\n",
              "      <th>cluster</th>\n",
              "      <th>crr_INGENIERIA CIVIL</th>\n",
              "      <th>crr_INGENIERIA CIVIL - PLAN COMUN</th>\n",
              "      <th>crr_INGENIERIA CIVIL AEROESPACIAL</th>\n",
              "      <th>crr_INGENIERIA CIVIL BIOMEDICA</th>\n",
              "      <th>crr_INGENIERIA CIVIL DE MATERIALES</th>\n",
              "      <th>crr_INGENIERIA CIVIL ELECTRICA</th>\n",
              "      <th>crr_INGENIERIA CIVIL ELECTRONICA</th>\n",
              "      <th>crr_INGENIERIA CIVIL EN TELECOMUNICACIONES</th>\n",
              "      <th>crr_INGENIERIA CIVIL INDUSTRIAL</th>\n",
              "      <th>crr_INGENIERIA CIVIL INFORMATICA</th>\n",
              "      <th>crr_INGENIERIA CIVIL MECANICA</th>\n",
              "      <th>crr_INGENIERIA CIVIL METALURGICA</th>\n",
              "      <th>crr_INGENIERIA CIVIL QUIMICA</th>\n",
              "      <th>crr_INGENIERÍA CIVIL DE MINAS</th>\n",
              "    </tr>\n",
              "  </thead>\n",
              "  <tbody>\n",
              "    <tr>\n",
              "      <th>0</th>\n",
              "      <td>783</td>\n",
              "      <td>653</td>\n",
              "      <td>685</td>\n",
              "      <td>672</td>\n",
              "      <td>735</td>\n",
              "      <td>-73.16487</td>\n",
              "      <td>-36.978759</td>\n",
              "      <td>38</td>\n",
              "      <td>20.201244</td>\n",
              "      <td>1</td>\n",
              "      <td>0</td>\n",
              "      <td>1</td>\n",
              "      <td>0</td>\n",
              "      <td>0</td>\n",
              "      <td>2</td>\n",
              "      <td>0</td>\n",
              "      <td>0</td>\n",
              "      <td>0</td>\n",
              "      <td>0</td>\n",
              "      <td>0</td>\n",
              "      <td>0</td>\n",
              "      <td>0</td>\n",
              "      <td>0</td>\n",
              "      <td>1</td>\n",
              "      <td>0</td>\n",
              "      <td>0</td>\n",
              "      <td>0</td>\n",
              "      <td>0</td>\n",
              "      <td>0</td>\n",
              "    </tr>\n",
              "    <tr>\n",
              "      <th>1</th>\n",
              "      <td>799</td>\n",
              "      <td>705</td>\n",
              "      <td>713</td>\n",
              "      <td>686</td>\n",
              "      <td>756</td>\n",
              "      <td>-73.16487</td>\n",
              "      <td>-36.978759</td>\n",
              "      <td>36</td>\n",
              "      <td>20.201244</td>\n",
              "      <td>1</td>\n",
              "      <td>0</td>\n",
              "      <td>1</td>\n",
              "      <td>0</td>\n",
              "      <td>0</td>\n",
              "      <td>1</td>\n",
              "      <td>0</td>\n",
              "      <td>0</td>\n",
              "      <td>0</td>\n",
              "      <td>1</td>\n",
              "      <td>0</td>\n",
              "      <td>0</td>\n",
              "      <td>0</td>\n",
              "      <td>0</td>\n",
              "      <td>0</td>\n",
              "      <td>0</td>\n",
              "      <td>0</td>\n",
              "      <td>0</td>\n",
              "      <td>0</td>\n",
              "      <td>0</td>\n",
              "    </tr>\n",
              "    <tr>\n",
              "      <th>2</th>\n",
              "      <td>688</td>\n",
              "      <td>543</td>\n",
              "      <td>612</td>\n",
              "      <td>534</td>\n",
              "      <td>638</td>\n",
              "      <td>-73.16487</td>\n",
              "      <td>-36.978759</td>\n",
              "      <td>36</td>\n",
              "      <td>20.201244</td>\n",
              "      <td>1</td>\n",
              "      <td>0</td>\n",
              "      <td>1</td>\n",
              "      <td>0</td>\n",
              "      <td>0</td>\n",
              "      <td>3</td>\n",
              "      <td>0</td>\n",
              "      <td>0</td>\n",
              "      <td>0</td>\n",
              "      <td>0</td>\n",
              "      <td>0</td>\n",
              "      <td>0</td>\n",
              "      <td>0</td>\n",
              "      <td>0</td>\n",
              "      <td>0</td>\n",
              "      <td>0</td>\n",
              "      <td>0</td>\n",
              "      <td>0</td>\n",
              "      <td>1</td>\n",
              "      <td>0</td>\n",
              "    </tr>\n",
              "    <tr>\n",
              "      <th>3</th>\n",
              "      <td>605</td>\n",
              "      <td>598</td>\n",
              "      <td>658</td>\n",
              "      <td>601</td>\n",
              "      <td>633</td>\n",
              "      <td>-73.16487</td>\n",
              "      <td>-36.978759</td>\n",
              "      <td>21</td>\n",
              "      <td>20.201244</td>\n",
              "      <td>0</td>\n",
              "      <td>1</td>\n",
              "      <td>1</td>\n",
              "      <td>0</td>\n",
              "      <td>0</td>\n",
              "      <td>2</td>\n",
              "      <td>0</td>\n",
              "      <td>0</td>\n",
              "      <td>0</td>\n",
              "      <td>0</td>\n",
              "      <td>0</td>\n",
              "      <td>1</td>\n",
              "      <td>0</td>\n",
              "      <td>0</td>\n",
              "      <td>0</td>\n",
              "      <td>0</td>\n",
              "      <td>0</td>\n",
              "      <td>0</td>\n",
              "      <td>0</td>\n",
              "      <td>0</td>\n",
              "    </tr>\n",
              "    <tr>\n",
              "      <th>4</th>\n",
              "      <td>603</td>\n",
              "      <td>710</td>\n",
              "      <td>668</td>\n",
              "      <td>651</td>\n",
              "      <td>657</td>\n",
              "      <td>-73.16487</td>\n",
              "      <td>-36.978759</td>\n",
              "      <td>19</td>\n",
              "      <td>20.201244</td>\n",
              "      <td>0</td>\n",
              "      <td>1</td>\n",
              "      <td>1</td>\n",
              "      <td>0</td>\n",
              "      <td>0</td>\n",
              "      <td>2</td>\n",
              "      <td>0</td>\n",
              "      <td>0</td>\n",
              "      <td>0</td>\n",
              "      <td>0</td>\n",
              "      <td>0</td>\n",
              "      <td>0</td>\n",
              "      <td>0</td>\n",
              "      <td>0</td>\n",
              "      <td>0</td>\n",
              "      <td>1</td>\n",
              "      <td>0</td>\n",
              "      <td>0</td>\n",
              "      <td>0</td>\n",
              "      <td>0</td>\n",
              "    </tr>\n",
              "  </tbody>\n",
              "</table>\n",
              "</div>"
            ],
            "text/plain": [
              "   psu_Nem  ...  crr_INGENIERÍA CIVIL DE MINAS\n",
              "0      783  ...                              0\n",
              "1      799  ...                              0\n",
              "2      688  ...                              0\n",
              "3      605  ...                              0\n",
              "4      603  ...                              0\n",
              "\n",
              "[5 rows x 29 columns]"
            ]
          },
          "metadata": {
            "tags": []
          },
          "execution_count": 58
        }
      ]
    },
    {
      "cell_type": "markdown",
      "metadata": {
        "id": "mRGoYb6NRxik",
        "colab_type": "text"
      },
      "source": [
        "#### Separar en entrenamiento y test"
      ]
    },
    {
      "cell_type": "code",
      "metadata": {
        "id": "gjf1eEbTNbt0",
        "colab_type": "code",
        "colab": {}
      },
      "source": [
        "#columnas\n",
        "features = list(set(data1.columns.tolist())-set(['cluster']))\n",
        "X_train, X_test, y_train, y_test = train_test_split(data1[features], data1['cluster'], test_size = 0.2, random_state = 0)"
      ],
      "execution_count": 0,
      "outputs": []
    },
    {
      "cell_type": "code",
      "metadata": {
        "id": "7BFlpLIDP7vr",
        "colab_type": "code",
        "colab": {
          "base_uri": "https://localhost:8080/",
          "height": 85
        },
        "outputId": "b2451af5-cfb6-4477-cde7-4b37c77c01d4"
      },
      "source": [
        "#tamaño sets\n",
        "print('Tamaño data entrenamiento X:', X_train.shape)\n",
        "print('Tamaño data entrenamiento y:', y_train.shape)\n",
        "print('Tamaño data test X:', X_test.shape)\n",
        "print('Tamaño data test y:', y_test.shape)"
      ],
      "execution_count": 60,
      "outputs": [
        {
          "output_type": "stream",
          "text": [
            "Tamaño data entrenamiento X: (6292, 28)\n",
            "Tamaño data entrenamiento y: (6292,)\n",
            "Tamaño data test X: (1574, 28)\n",
            "Tamaño data test y: (1574,)\n"
          ],
          "name": "stdout"
        }
      ]
    },
    {
      "cell_type": "code",
      "metadata": {
        "id": "pzkLEZ5MQaK9",
        "colab_type": "code",
        "colab": {}
      },
      "source": [
        "#min max scaler de los datos\n",
        "min_max_scaler = MinMaxScaler()\n",
        "X_train = min_max_scaler.fit_transform(X_train)\n",
        "X_test = min_max_scaler.transform(X_test)"
      ],
      "execution_count": 0,
      "outputs": []
    },
    {
      "cell_type": "markdown",
      "metadata": {
        "id": "1On5QRvjQZ-m",
        "colab_type": "text"
      },
      "source": [
        "#### Prueba regresion logística en sklean"
      ]
    },
    {
      "cell_type": "code",
      "metadata": {
        "id": "xbx9ig_0QZzV",
        "colab_type": "code",
        "colab": {}
      },
      "source": [
        "from sklearn.linear_model import LogisticRegression"
      ],
      "execution_count": 0,
      "outputs": []
    },
    {
      "cell_type": "code",
      "metadata": {
        "id": "gRE2QvQ0QZab",
        "colab_type": "code",
        "colab": {
          "base_uri": "https://localhost:8080/",
          "height": 258
        },
        "outputId": "989d88ea-f3c6-46d2-f424-8f2615331a67"
      },
      "source": [
        "lr = LogisticRegression(random_state = None)\n",
        "lr.fit(X_train, y_train)"
      ],
      "execution_count": 72,
      "outputs": [
        {
          "output_type": "stream",
          "text": [
            "/usr/local/lib/python3.6/dist-packages/sklearn/linear_model/_logistic.py:940: ConvergenceWarning: lbfgs failed to converge (status=1):\n",
            "STOP: TOTAL NO. of ITERATIONS REACHED LIMIT.\n",
            "\n",
            "Increase the number of iterations (max_iter) or scale the data as shown in:\n",
            "    https://scikit-learn.org/stable/modules/preprocessing.html\n",
            "Please also refer to the documentation for alternative solver options:\n",
            "    https://scikit-learn.org/stable/modules/linear_model.html#logistic-regression\n",
            "  extra_warning_msg=_LOGISTIC_SOLVER_CONVERGENCE_MSG)\n"
          ],
          "name": "stderr"
        },
        {
          "output_type": "execute_result",
          "data": {
            "text/plain": [
              "LogisticRegression(C=1.0, class_weight=None, dual=False, fit_intercept=True,\n",
              "                   intercept_scaling=1, l1_ratio=None, max_iter=100,\n",
              "                   multi_class='auto', n_jobs=None, penalty='l2',\n",
              "                   random_state=None, solver='lbfgs', tol=0.0001, verbose=0,\n",
              "                   warm_start=False)"
            ]
          },
          "metadata": {
            "tags": []
          },
          "execution_count": 72
        }
      ]
    },
    {
      "cell_type": "code",
      "metadata": {
        "id": "-1zU8adIQZRx",
        "colab_type": "code",
        "colab": {
          "base_uri": "https://localhost:8080/",
          "height": 34
        },
        "outputId": "7a609ee4-7fa7-45d4-f1a5-0955ba8044e9"
      },
      "source": [
        "lr.predict(X_train)"
      ],
      "execution_count": 74,
      "outputs": [
        {
          "output_type": "execute_result",
          "data": {
            "text/plain": [
              "array([2, 2, 2, ..., 2, 2, 2])"
            ]
          },
          "metadata": {
            "tags": []
          },
          "execution_count": 74
        }
      ]
    },
    {
      "cell_type": "code",
      "metadata": {
        "id": "BTDTaTRPQY6t",
        "colab_type": "code",
        "colab": {
          "base_uri": "https://localhost:8080/",
          "height": 136
        },
        "outputId": "584ffcf7-bf3b-4053-9046-8188f4d1cc11"
      },
      "source": [
        "lr.predict_proba(X_train)"
      ],
      "execution_count": 76,
      "outputs": [
        {
          "output_type": "execute_result",
          "data": {
            "text/plain": [
              "array([[8.32738417e-03, 7.92718601e-01, 1.30162354e-01, 6.87916603e-02],\n",
              "       [3.17138190e-01, 6.78975694e-01, 3.84127403e-03, 4.48416112e-05],\n",
              "       [3.20287306e-02, 7.87479177e-01, 1.75653892e-01, 4.83820060e-03],\n",
              "       ...,\n",
              "       [5.17586390e-02, 9.37441645e-01, 1.04942851e-02, 3.05430881e-04],\n",
              "       [1.19769745e-01, 8.36338758e-01, 4.38367736e-02, 5.47229989e-05],\n",
              "       [9.34506396e-03, 4.74923411e-01, 4.24896668e-01, 9.08348571e-02]])"
            ]
          },
          "metadata": {
            "tags": []
          },
          "execution_count": 76
        }
      ]
    },
    {
      "cell_type": "code",
      "metadata": {
        "id": "4qec3lcVbaRR",
        "colab_type": "code",
        "colab": {
          "base_uri": "https://localhost:8080/",
          "height": 51
        },
        "outputId": "52c47eac-fe41-433c-df09-9a63ddd01672"
      },
      "source": [
        "print ('Accurancy set entrenamiento: {:.5f}'.format(lr.score(X_train, y_train)))\n",
        "print ('Accurancy set testeo: {:.5f}'.format(lr.score(X_test, y_test)))"
      ],
      "execution_count": 98,
      "outputs": [
        {
          "output_type": "stream",
          "text": [
            "Accurancy set entrenamiento: 0.79673\n",
            "Accurancy set testeo: 0.79543\n"
          ],
          "name": "stdout"
        }
      ]
    },
    {
      "cell_type": "code",
      "metadata": {
        "id": "f5uu8s6-d5eD",
        "colab_type": "code",
        "colab": {
          "base_uri": "https://localhost:8080/",
          "height": 102
        },
        "outputId": "7fcc26fe-e177-4808-8583-199056b503cc"
      },
      "source": [
        "#f1 score\n",
        "from sklearn.metrics import f1_score\n",
        "print('F1 score conjunto de entrenamiento')\n",
        "print('Macro:', f1_score(y_train, lr.predict(X_train), average='macro'))\n",
        "print('Micro:', f1_score(y_train, lr.predict(X_train), average='micro'))\n",
        "print('Weighted:', f1_score(y_train, lr.predict(X_train), average='weighted'))\n",
        "print('De cada clase:', f1_score(y_train, lr.predict(X_train), average=None))"
      ],
      "execution_count": 112,
      "outputs": [
        {
          "output_type": "stream",
          "text": [
            "F1 score conjunto de entrenamiento\n",
            "Macro: 0.7800689362037607\n",
            "Micro: 0.7967260012714558\n",
            "Weighted: 0.7954516091955631\n",
            "De cada clase: [0.79842675 0.84131487 0.72674838 0.75378575]\n"
          ],
          "name": "stdout"
        }
      ]
    },
    {
      "cell_type": "code",
      "metadata": {
        "id": "vXzYDRpzf9-v",
        "colab_type": "code",
        "colab": {
          "base_uri": "https://localhost:8080/",
          "height": 102
        },
        "outputId": "b0e3c50a-7eb3-40b8-b8ff-8dc57e1d97f7"
      },
      "source": [
        "print('F1 score conjunto de entrenamiento')\n",
        "print('Macro:', f1_score(y_test, lr.predict(X_test), average='macro'))\n",
        "print('Micro:', f1_score(y_test, lr.predict(X_test), average='micro'))\n",
        "print('Weighted:', f1_score(y_test, lr.predict(X_test), average='weighted'))\n",
        "print('De cada clase:', f1_score(y_test, lr.predict(X_test), average=None))"
      ],
      "execution_count": 113,
      "outputs": [
        {
          "output_type": "stream",
          "text": [
            "F1 score conjunto de entrenamiento\n",
            "Macro: 0.7743831545806533\n",
            "Micro: 0.795425667090216\n",
            "Weighted: 0.7935682292316109\n",
            "De cada clase: [0.80851064 0.84365029 0.71893491 0.72643678]\n"
          ],
          "name": "stdout"
        }
      ]
    },
    {
      "cell_type": "code",
      "metadata": {
        "id": "JEWoT_YobaBa",
        "colab_type": "code",
        "colab": {
          "base_uri": "https://localhost:8080/",
          "height": 119
        },
        "outputId": "48220a71-9eb3-45a8-c657-ecd26622e585"
      },
      "source": [
        "#matriz de confusión\n",
        "from sklearn.metrics import confusion_matrix\n",
        "print('Matriz de confusión TRAIN\\n')\n",
        "confusion_matrix(y_train, lr.predict(X_train))"
      ],
      "execution_count": 126,
      "outputs": [
        {
          "output_type": "stream",
          "text": [
            "Matriz de confusión TRAIN\n",
            "\n"
          ],
          "name": "stdout"
        },
        {
          "output_type": "execute_result",
          "data": {
            "text/plain": [
              "array([[ 812,  278,    0,    0],\n",
              "       [ 132, 2521,  186,   37],\n",
              "       [   0,  244, 1008,  162],\n",
              "       [   0,   74,  166,  672]])"
            ]
          },
          "metadata": {
            "tags": []
          },
          "execution_count": 126
        }
      ]
    },
    {
      "cell_type": "code",
      "metadata": {
        "id": "ZZQvv8pfbZ5r",
        "colab_type": "code",
        "colab": {
          "base_uri": "https://localhost:8080/",
          "height": 299
        },
        "outputId": "625213ee-19f3-4454-f9d0-ed6383f8f057"
      },
      "source": [
        "from sklearn.metrics import plot_confusion_matrix\n",
        "etiqueta_cluster = ['C1', 'C2', 'C3', 'C4']\n",
        "#agrandar grafico\n",
        "plot_confusion_matrix(lr, X_train, y_train,\n",
        "                                 display_labels=etiqueta_cluster,\n",
        "                                 cmap=plt.cm.Blues,\n",
        "                                 normalize=None)"
      ],
      "execution_count": 127,
      "outputs": [
        {
          "output_type": "execute_result",
          "data": {
            "text/plain": [
              "<sklearn.metrics._plot.confusion_matrix.ConfusionMatrixDisplay at 0x7f123102b898>"
            ]
          },
          "metadata": {
            "tags": []
          },
          "execution_count": 127
        },
        {
          "output_type": "display_data",
          "data": {
            "image/png": "[encoded data removed]",
            "text/plain": [
              "<Figure size 432x288 with 2 Axes>"
            ]
          },
          "metadata": {
            "tags": [],
            "needs_background": "light"
          }
        }
      ]
    },
    {
      "cell_type": "code",
      "metadata": {
        "id": "xLP3qOsXkU7-",
        "colab_type": "code",
        "colab": {
          "base_uri": "https://localhost:8080/",
          "height": 119
        },
        "outputId": "d9b7a236-350e-4f83-e726-9411530a97da"
      },
      "source": [
        "print('Matris de confusión TEST\\n')\n",
        "confusion_matrix(y_test, lr.predict(X_test))"
      ],
      "execution_count": 130,
      "outputs": [
        {
          "output_type": "stream",
          "text": [
            "Matris de confusión TEST\n",
            "\n"
          ],
          "name": "stdout"
        },
        {
          "output_type": "execute_result",
          "data": {
            "text/plain": [
              "array([[190,  52,   0,   0],\n",
              "       [ 38, 661,  38,  18],\n",
              "       [  0,  75, 243,  41],\n",
              "       [  0,  24,  36, 158]])"
            ]
          },
          "metadata": {
            "tags": []
          },
          "execution_count": 130
        }
      ]
    },
    {
      "cell_type": "code",
      "metadata": {
        "id": "En0jzgL5kU0D",
        "colab_type": "code",
        "colab": {
          "base_uri": "https://localhost:8080/",
          "height": 313
        },
        "outputId": "ff79b789-8b51-4dc7-c895-6317a32080f0"
      },
      "source": [
        "print('Matriz de confusión TEST normalizada')\n",
        "etiqueta_cluster = ['C1', 'C2', 'C3', 'C4']\n",
        "#agrandar grafico\n",
        "plot_confusion_matrix(lr, X_test, y_test,\n",
        "                                 display_labels=etiqueta_cluster,\n",
        "                                 cmap=plt.cm.Blues,\n",
        "                                 normalize='true')\n",
        "#normalizada puede ser true, pred, all, None"
      ],
      "execution_count": 141,
      "outputs": [
        {
          "output_type": "stream",
          "text": [
            "Matriz de confusión TEST normalizada\n"
          ],
          "name": "stdout"
        },
        {
          "output_type": "execute_result",
          "data": {
            "text/plain": [
              "<sklearn.metrics._plot.confusion_matrix.ConfusionMatrixDisplay at 0x7f12306f5f60>"
            ]
          },
          "metadata": {
            "tags": []
          },
          "execution_count": 141
        },
        {
          "output_type": "display_data",
          "data": {
            "image/png": "[encoded data removed]",
            "text/plain": [
              "<Figure size 432x288 with 2 Axes>"
            ]
          },
          "metadata": {
            "tags": [],
            "needs_background": "light"
          }
        }
      ]
    },
    {
      "cell_type": "markdown",
      "metadata": {
        "id": "6zHOXg-JkUse",
        "colab_type": "text"
      },
      "source": [
        "#### Usando TF 2"
      ]
    },
    {
      "cell_type": "code",
      "metadata": {
        "id": "8S4atwoZlqrS",
        "colab_type": "code",
        "colab": {
          "base_uri": "https://localhost:8080/",
          "height": 85
        },
        "outputId": "26e9e760-83f9-4756-a4a5-6d28b84fa7a6"
      },
      "source": [
        "#haciendo todo el preprocesamiento y obteniendo las bases de datos de entrenamiento y test\n",
        "print('Tamaño data entrenamiento X:', X_train.shape)\n",
        "print('Tamaño data entrenamiento y:', y_train.shape)\n",
        "print('Tamaño data test X:', X_test.shape)\n",
        "print('Tamaño data test y:', y_test.shape)"
      ],
      "execution_count": 143,
      "outputs": [
        {
          "output_type": "stream",
          "text": [
            "Tamaño data entrenamiento X: (6292, 28)\n",
            "Tamaño data entrenamiento y: (6292,)\n",
            "Tamaño data test X: (1574, 28)\n",
            "Tamaño data test y: (1574,)\n"
          ],
          "name": "stdout"
        }
      ]
    },
    {
      "cell_type": "code",
      "metadata": {
        "id": "NbJ7yH_2qmh0",
        "colab_type": "code",
        "colab": {}
      },
      "source": [
        "#transformmar a tensores\n",
        "X_train_tensor = tf.convert_to_tensor(X_train, dtype = tf.float32)\n",
        "y_train_tensor = tf.reshape(tf.convert_to_tensor(y_train, dtype = tf.float32), [y_train.shape[0], 1])\n",
        "X_test_tensor = tf.convert_to_tensor(X_test, dtype = tf.float32)\n",
        "y_test_tensor = tf.reshape(tf.convert_to_tensor(y_test, dtype = tf.float32), [y_test.shape[0], 1])"
      ],
      "execution_count": 0,
      "outputs": []
    },
    {
      "cell_type": "code",
      "metadata": {
        "id": "izHzj4MAohlH",
        "colab_type": "code",
        "colab": {}
      },
      "source": [
        "#parametros de NN\n",
        "lr = 0.01  #learning rate\n",
        "nn = [X_train_tensor.shape[1], 16, 4] #número de neuronas por layer"
      ],
      "execution_count": 0,
      "outputs": []
    },
    {
      "cell_type": "code",
      "metadata": {
        "id": "7xfI-tAulqjb",
        "colab_type": "code",
        "colab": {
          "base_uri": "https://localhost:8080/",
          "height": 129
        },
        "outputId": "6f5e0e3e-277e-45b5-ad62-708f05412981"
      },
      "source": [
        "model_lr = kr."
      ],
      "execution_count": 144,
      "outputs": [
        {
          "output_type": "error",
          "ename": "SyntaxError",
          "evalue": "ignored",
          "traceback": [
            "\u001b[0;36m  File \u001b[0;32m\"<ipython-input-144-f27c6628149a>\"\u001b[0;36m, line \u001b[0;32m1\u001b[0m\n\u001b[0;31m    model_lr = kr.\u001b[0m\n\u001b[0m                  ^\u001b[0m\n\u001b[0;31mSyntaxError\u001b[0m\u001b[0;31m:\u001b[0m invalid syntax\n"
          ]
        }
      ]
    },
    {
      "cell_type": "code",
      "metadata": {
        "id": "ewD3g5L-lqcj",
        "colab_type": "code",
        "colab": {}
      },
      "source": [
        ""
      ],
      "execution_count": 0,
      "outputs": []
    },
    {
      "cell_type": "code",
      "metadata": {
        "id": "RI8wNI21lqWU",
        "colab_type": "code",
        "colab": {}
      },
      "source": [
        ""
      ],
      "execution_count": 0,
      "outputs": []
    },
    {
      "cell_type": "code",
      "metadata": {
        "id": "IARaQMWWlqOg",
        "colab_type": "code",
        "colab": {}
      },
      "source": [
        ""
      ],
      "execution_count": 0,
      "outputs": []
    },
    {
      "cell_type": "code",
      "metadata": {
        "id": "DgiSEslSkUiX",
        "colab_type": "code",
        "colab": {}
      },
      "source": [
        ""
      ],
      "execution_count": 0,
      "outputs": []
    },
    {
      "cell_type": "markdown",
      "metadata": {
        "id": "LNlaGvlWCnGW",
        "colab_type": "text"
      },
      "source": [
        "## Pregunta 2"
      ]
    },
    {
      "cell_type": "code",
      "metadata": {
        "id": "d_l8ha7_-x_3",
        "colab_type": "code",
        "colab": {}
      },
      "source": [
        "path2 = 'https://raw.githubusercontent.com/joseortegalabra/MLBI/master/Tarea1/dataset2.csv'\n",
        "data2 = pd.read_csv(path2)\n",
        "data2.head()"
      ],
      "execution_count": 0,
      "outputs": []
    },
    {
      "cell_type": "code",
      "metadata": {
        "id": "gQi8u1QBDPnn",
        "colab_type": "code",
        "colab": {}
      },
      "source": [
        ""
      ],
      "execution_count": 0,
      "outputs": []
    }
  ]
}